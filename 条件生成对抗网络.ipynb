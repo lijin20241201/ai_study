{
  "nbformat": 4,
  "nbformat_minor": 0,
  "metadata": {
    "colab": {
      "provenance": [],
      "mount_file_id": "1SAuijvEZYn8GygwJCq8ws7n8JcGlup5N",
      "authorship_tag": "ABX9TyNoCc1RJXW5/J0b5GzPcZA2"
    },
    "kernelspec": {
      "name": "python3",
      "display_name": "Python 3"
    },
    "language_info": {
      "name": "python"
    }
  },
  "cells": [
    {
      "cell_type": "code",
      "source": [
        "# 从 GitHub 安装源码：使用 git+https 链接。\n",
        "# 从本地源码安装：在源码目录下使用 pip install .。\n",
        "# 开发模式安装：使用 pip install -e ."
      ],
      "metadata": {
        "id": "kxC6wJpVdJsL"
      },
      "execution_count": null,
      "outputs": []
    },
    {
      "cell_type": "code",
      "execution_count": 2,
      "metadata": {
        "colab": {
          "base_uri": "https://localhost:8080/"
        },
        "id": "ii-wDuT5PFVX",
        "outputId": "19bd6e73-fad3-4af6-f04c-998e89630811"
      },
      "outputs": [
        {
          "output_type": "stream",
          "name": "stdout",
          "text": [
            "  Preparing metadata (setup.py) ... \u001b[?25l\u001b[?25hdone\n",
            "  Building wheel for tensorflow-docs (setup.py) ... \u001b[?25l\u001b[?25hdone\n"
          ]
        }
      ],
      "source": [
        "!pip install -q git+https://github.com/tensorflow/docs"
      ]
    },
    {
      "cell_type": "code",
      "source": [
        "# 包含 __init__.py 文件的目录是 Python 包，可以通过包的形式导入。\n",
        "# 没有 __init__.py 的目录不是包，只是普通目录，不能作为包导入。\n",
        "# 如果目录没有 __init__.py，你就不能像导入包一样导入它。你只能直接导入模块"
      ],
      "metadata": {
        "id": "FJ3GhJFwfEZ8"
      },
      "execution_count": null,
      "outputs": []
    },
    {
      "cell_type": "code",
      "source": [
        "import keras\n",
        "\n",
        "from keras import layers\n",
        "from keras import ops\n",
        "from tensorflow_docs.vis import embed\n",
        "import tensorflow as tf\n",
        "import numpy as np\n",
        "import imageio"
      ],
      "metadata": {
        "id": "7xJwJGxYPVLq"
      },
      "execution_count": 4,
      "outputs": []
    },
    {
      "cell_type": "code",
      "source": [
        "# RGB 通道的 0-255 范围表示颜色的强度，而不直接表示颜色的纯度。\n",
        "# 颜色的纯度通常由饱和度来衡量，表示颜色是否是纯色（没有灰色成分）\n",
        "# 彩色图像数字化的过程就是将图像中的每个像素分解为三个数值，分别表示红色、绿色和蓝色的强度。\n",
        "# 每个通道保存了整个图像中该颜色的强度分布，可以通过这三个通道来重建图像。\n",
        "# 最终图像的表示就是三个二维数组的集合，这些数组分别表示红色、绿色和蓝色通道的数据"
      ],
      "metadata": {
        "id": "TipqNn3OhxG2"
      },
      "execution_count": null,
      "outputs": []
    },
    {
      "cell_type": "code",
      "source": [
        "batch_size = 64\n",
        "num_channels = 1\n",
        "num_classes = 10\n",
        "image_size = 28\n",
        "latent_dim = 128"
      ],
      "metadata": {
        "id": "mLhS5Eq3PuoY"
      },
      "execution_count": 3,
      "outputs": []
    },
    {
      "cell_type": "code",
      "source": [
        "# 准备数据\n",
        "(x_train, y_train), (x_test, y_test) = keras.datasets.mnist.load_data()\n",
        "all_digits = np.concatenate([x_train, x_test])\n",
        "all_labels = np.concatenate([y_train, y_test])\n",
        "\n",
        "# 归一化\n",
        "all_digits = all_digits.astype(\"float32\") / 255.0\n",
        "all_digits = np.reshape(all_digits, (-1, 28, 28, 1)) # 变成四维张量\n",
        "all_labels = keras.utils.to_categorical(all_labels, 10) # one-hot\n",
        "dataset = tf.data.Dataset.from_tensor_slices((all_digits, all_labels))\n",
        "dataset = dataset.shuffle(buffer_size=1024).batch(batch_size)\n",
        "print(f\"Shape of training images: {all_digits.shape}\")\n",
        "print(f\"Shape of training labels: {all_labels.shape}\")"
      ],
      "metadata": {
        "colab": {
          "base_uri": "https://localhost:8080/"
        },
        "id": "I2EI8XrcPyoD",
        "outputId": "8bb5f959-3603-49e9-d6a4-5a6d029ed88c"
      },
      "execution_count": 4,
      "outputs": [
        {
          "output_type": "stream",
          "name": "stdout",
          "text": [
            "Downloading data from https://storage.googleapis.com/tensorflow/tf-keras-datasets/mnist.npz\n",
            "\u001b[1m11490434/11490434\u001b[0m \u001b[32m━━━━━━━━━━━━━━━━━━━━\u001b[0m\u001b[37m\u001b[0m \u001b[1m2s\u001b[0m 0us/step\n",
            "Shape of training images: (70000, 28, 28, 1)\n",
            "Shape of training labels: (70000, 10)\n"
          ]
        }
      ]
    },
    {
      "cell_type": "code",
      "source": [
        "# 计算生成器和鉴别器的输入通道数\n",
        "# 在常规（无条件）GAN 中，我们首先从正态分布中采样噪声（某个固定维度）。在我们的例子中，我们还需要考虑类标签。我们必须将\n",
        "# 类数添加到生成器（噪声输入）和鉴别器（生成的图像输入）的输入通道中。\n",
        "# 生成器输入通道数（generator_in_channels）：由潜在空间的维度和类别数量的和构成，表示生成器接收的输入数据。\n",
        "# 判别器输入通道数（discriminator_in_channels）：由图像的通道数和类别数量的和构成，表示判别器接收的输入数据\n",
        "# 生成器的输入是由潜在向量（latent_dim）和类别信息（num_classes）组合而成的。生成器接收这两个信息，生成符合条件的图像或数据。\n",
        "# 在条件 GAN 中，判别器不仅要判断图像是否真实，还需要判断图像是否符合给定的类别标签。\n",
        "generator_in_channels = latent_dim + num_classes\n",
        "discriminator_in_channels = num_channels + num_classes\n",
        "print(generator_in_channels, discriminator_in_channels)"
      ],
      "metadata": {
        "colab": {
          "base_uri": "https://localhost:8080/"
        },
        "id": "ATkhZ5_3PzoB",
        "outputId": "2abbf82c-1aac-421f-e463-6dcde8e923f7"
      },
      "execution_count": 5,
      "outputs": [
        {
          "output_type": "stream",
          "name": "stdout",
          "text": [
            "138 11\n"
          ]
        }
      ]
    },
    {
      "cell_type": "code",
      "source": [
        "layers.GlobalMaxPooling2D(  )"
      ],
      "metadata": {
        "colab": {
          "base_uri": "https://localhost:8080/"
        },
        "id": "d_IsUPEumosc",
        "outputId": "8dda5092-f230-4750-b675-40b295f004e0"
      },
      "execution_count": 5,
      "outputs": [
        {
          "output_type": "execute_result",
          "data": {
            "text/plain": [
              "<GlobalMaxPooling2D name=global_max_pooling2d, built=False>"
            ]
          },
          "metadata": {},
          "execution_count": 5
        }
      ]
    },
    {
      "cell_type": "code",
      "source": [
        "# Create the discriminator.\n",
        "discriminator = keras.Sequential(\n",
        "    [\n",
        "        keras.layers.InputLayer((28, 28, discriminator_in_channels)), # (28,28)\n",
        "        layers.Conv2D(64, (3, 3), strides=(2, 2), padding=\"same\"), # (14,14)\n",
        "        layers.LeakyReLU(negative_slope=0.2),\n",
        "        layers.Conv2D(128, (3, 3), strides=(2, 2), padding=\"same\"), # (7,7)\n",
        "        layers.LeakyReLU(negative_slope=0.2),\n",
        "        layers.GlobalMaxPooling2D(), # 它用于减少特征图的空间尺寸，同时保留每个通道中的最重要的信息。(b,d)\n",
        "        layers.Dense(1),\n",
        "    ],\n",
        "    name=\"discriminator\",\n",
        ")\n",
        "\n",
        "# Create the generator.\n",
        "generator = keras.Sequential(\n",
        "    [\n",
        "        keras.layers.InputLayer((generator_in_channels,)),  # 输入层：接收形状为 (generator_in_channels,) 的一维向量作为输入\n",
        "        layers.Dense(7 * 7 * generator_in_channels), # 第一层全连接层，将输入的维度投影为一个 7x7xgenerator_in_channels 的向量\n",
        "        layers.LeakyReLU(negative_slope=0.2),\n",
        "        layers.Reshape((7, 7, generator_in_channels)), # 将一维向量 reshape 成 7x7xgenerator_in_channels 的 3D 张量，方便后续卷积操作\n",
        "        layers.Conv2DTranspose(128, (4, 4), strides=(2, 2), padding=\"same\"), # (14,14)\n",
        "        layers.LeakyReLU(negative_slope=0.2),\n",
        "        layers.Conv2DTranspose(128, (4, 4), strides=(2, 2), padding=\"same\"),  # (28,28)\n",
        "        layers.LeakyReLU(negative_slope=0.2),\n",
        "        layers.Conv2D(1, (7, 7), padding=\"same\", activation=\"sigmoid\"), # 最后一层卷积：生成单通道图像（如灰度图），使用 sigmoid 激活函数将输出压缩到 [0, 1] 之间\n",
        "    ],\n",
        "    name=\"generator\",\n",
        ")"
      ],
      "metadata": {
        "id": "4JG6Gc8RP4XO"
      },
      "execution_count": 6,
      "outputs": []
    },
    {
      "cell_type": "code",
      "source": [
        "class ConditionalGAN(keras.Model):\n",
        "    def __init__(self, discriminator, generator, latent_dim): # 初始化方法，接收判别器、生成器和潜在空间维度\n",
        "        super().__init__() # 调用父类的初始化方法\n",
        "        self.discriminator = discriminator  # 判别器\n",
        "        self.generator = generator # 生成器\n",
        "        self.latent_dim = latent_dim # 潜在空间的维度\n",
        "        self.seed_generator = keras.random.SeedGenerator(1337) # # 用于生成随机种子的生成器\n",
        "        self.gen_loss_tracker = keras.metrics.Mean(name=\"generator_loss\")  # 用于跟踪生成器损失的均值\n",
        "        self.disc_loss_tracker = keras.metrics.Mean(name=\"discriminator_loss\") # 用于跟踪判别器损失的均值\n",
        "\n",
        "    @property\n",
        "    def metrics(self):\n",
        "        return [self.gen_loss_tracker, self.disc_loss_tracker] # 返回监控的指标，包括生成器和判别器的损失\n",
        "\n",
        "    def compile(self, d_optimizer, g_optimizer, loss_fn): # 编译模型，设置判别器优化器、生成器优化器和损失函数\n",
        "        super().compile()  # 调用父类的 compile 方法\n",
        "        self.d_optimizer = d_optimizer  # 判别器优化器\n",
        "        self.g_optimizer = g_optimizer # 生成器优化器\n",
        "        self.loss_fn = loss_fn # 损失函数\n",
        "\n",
        "    def train_step(self, data):\n",
        "        # 解包数据：real_images 是真实图像，one_hot_labels 是图像的 one-hot 标签\n",
        "        real_images, one_hot_labels = data\n",
        "        # 为了能够与图像连接，需要为标签添加额外的维度（用于判别器的输入）\n",
        "        image_one_hot_labels = one_hot_labels[:, :, None, None] # 添加额外的维度\n",
        "        image_one_hot_labels = ops.repeat(\n",
        "            image_one_hot_labels, repeats=[image_size * image_size] # 重复标签数据\n",
        "        )\n",
        "        image_one_hot_labels = ops.reshape(# 重塑形状\n",
        "            image_one_hot_labels, (-1, image_size, image_size, num_classes)\n",
        "        )\n",
        "\n",
        "        # 从潜在空间采样随机向量，并将标签与随机向量拼接，作为生成器的输入\n",
        "        batch_size = ops.shape(real_images)[0]\n",
        "        random_latent_vectors = keras.random.normal(\n",
        "            shape=(batch_size, self.latent_dim), seed=self.seed_generator\n",
        "        )\n",
        "        random_vector_labels = ops.concatenate(  # 拼接标签与潜在向量\n",
        "            [random_latent_vectors, one_hot_labels], axis=1\n",
        "        )\n",
        "\n",
        "        # 使用生成器解码潜在向量（根据标签引导）生成虚假图像\n",
        "        generated_images = self.generator(random_vector_labels)\n",
        "\n",
        "        # 在特征轴合并通道特征\n",
        "        fake_image_and_labels = ops.concatenate(\n",
        "            [generated_images, image_one_hot_labels], -1\n",
        "        )\n",
        "        real_image_and_labels = ops.concatenate([real_images, image_one_hot_labels], -1)\n",
        "        combined_images = ops.concatenate(  # 将虚假图像和真实图像拼接\n",
        "            [fake_image_and_labels, real_image_and_labels], axis=0\n",
        "        )\n",
        "\n",
        "        # 组装判别标签，用于标识真假图像。这里虚假图像标签为 1，真实图像标签为 0,作者真是反常规\n",
        "        # 因为判别器如果把1当假，那0就是真,这里组装后就是二分类问题了\n",
        "        labels = ops.concatenate(\n",
        "            [ops.ones((batch_size, 1)), ops.zeros((batch_size, 1))], axis=0\n",
        "        )\n",
        "\n",
        "        # 训练判别器\n",
        "        with tf.GradientTape() as tape:\n",
        "            predictions = self.discriminator(combined_images)  # 判别器对合并后的图像进行预测\n",
        "            d_loss = self.loss_fn(labels, predictions)  # 判别器的损失函数，计算真实标签与预测值的误差\n",
        "        grads = tape.gradient(d_loss, self.discriminator.trainable_weights) # 计算损失对判别器参数的梯度\n",
        "        self.d_optimizer.apply_gradients( # 使用判别器优化器更新判别器的权重\n",
        "            zip(grads, self.discriminator.trainable_weights)\n",
        "        )\n",
        "\n",
        "         # 再次从潜在空间采样随机向量，作为生成器输入\n",
        "        random_latent_vectors = keras.random.normal(\n",
        "            shape=(batch_size, self.latent_dim), seed=self.seed_generator\n",
        "        )  # 随机生成潜在向量\n",
        "        random_vector_labels = ops.concatenate( # 拼接标签与潜在向量\n",
        "            [random_latent_vectors, one_hot_labels], axis=1\n",
        "        )\n",
        "\n",
        "        # 为生成器创建标签，标识“所有生成的图像都是真实的”（为了欺骗判别器）\n",
        "        misleading_labels = ops.zeros((batch_size, 1)) # 0表示真实,作者反向思维，其实判别器是二分类\n",
        "\n",
        "        # 训练生成器（注意：这里不更新判别器的权重）\n",
        "        with tf.GradientTape() as tape:\n",
        "            fake_images = self.generator(random_vector_labels) # 使用生成器生成虚假图像\n",
        "            fake_image_and_labels = ops.concatenate(  # 拼接虚假图像与标签\n",
        "                [fake_images, image_one_hot_labels], -1\n",
        "            )\n",
        "            predictions = self.discriminator(fake_image_and_labels) # 判别器对虚假图像进行预测\n",
        "            g_loss = self.loss_fn(misleading_labels, predictions) # 生成器的损失函数，计算真标签与判别器预测值的误差\n",
        "        grads = tape.gradient(g_loss, self.generator.trainable_weights) # 计算损失对生成器参数的梯度\n",
        "        self.g_optimizer.apply_gradients(zip(grads, self.generator.trainable_weights)) # 使用生成器优化器更新生成器的权重\n",
        "        # 监控损失\n",
        "        self.gen_loss_tracker.update_state(g_loss)  # 更新生成器损失的均值指标\n",
        "        self.disc_loss_tracker.update_state(d_loss)  # 更新判别器损失的均值指标\n",
        "        return { # 返回平均损失\n",
        "            \"g_loss\": self.gen_loss_tracker.result(),\n",
        "            \"d_loss\": self.disc_loss_tracker.result(),\n",
        "        }"
      ],
      "metadata": {
        "id": "VfZ8WENSP7_F"
      },
      "execution_count": 7,
      "outputs": []
    },
    {
      "cell_type": "code",
      "source": [
        "cond_gan = ConditionalGAN(\n",
        "    discriminator=discriminator, generator=generator, latent_dim=latent_dim\n",
        ")\n",
        "cond_gan.compile(\n",
        "    d_optimizer=keras.optimizers.Adam(learning_rate=0.0003),\n",
        "    g_optimizer=keras.optimizers.Adam(learning_rate=0.0003),\n",
        "    loss_fn=keras.losses.BinaryCrossentropy(from_logits=True),\n",
        ")\n",
        "\n",
        "cond_gan.fit(dataset, epochs=20)"
      ],
      "metadata": {
        "colab": {
          "base_uri": "https://localhost:8080/"
        },
        "id": "mHjL-X1uQBju",
        "outputId": "447327f7-2083-4a0e-b06e-3bf31f81ff06"
      },
      "execution_count": 8,
      "outputs": [
        {
          "output_type": "stream",
          "name": "stdout",
          "text": [
            "Epoch 1/20\n",
            "\u001b[1m1094/1094\u001b[0m \u001b[32m━━━━━━━━━━━━━━━━━━━━\u001b[0m\u001b[37m\u001b[0m \u001b[1m41s\u001b[0m 28ms/step - d_loss: 0.4525 - g_loss: 1.4650\n",
            "Epoch 2/20\n",
            "\u001b[1m1094/1094\u001b[0m \u001b[32m━━━━━━━━━━━━━━━━━━━━\u001b[0m\u001b[37m\u001b[0m \u001b[1m28s\u001b[0m 25ms/step - d_loss: 0.5433 - g_loss: 1.1484\n",
            "Epoch 3/20\n",
            "\u001b[1m1094/1094\u001b[0m \u001b[32m━━━━━━━━━━━━━━━━━━━━\u001b[0m\u001b[37m\u001b[0m \u001b[1m28s\u001b[0m 26ms/step - d_loss: 0.4516 - g_loss: 1.3488\n",
            "Epoch 4/20\n",
            "\u001b[1m1094/1094\u001b[0m \u001b[32m━━━━━━━━━━━━━━━━━━━━\u001b[0m\u001b[37m\u001b[0m \u001b[1m28s\u001b[0m 25ms/step - d_loss: 0.2243 - g_loss: 2.7196\n",
            "Epoch 5/20\n",
            "\u001b[1m1094/1094\u001b[0m \u001b[32m━━━━━━━━━━━━━━━━━━━━\u001b[0m\u001b[37m\u001b[0m \u001b[1m41s\u001b[0m 25ms/step - d_loss: 0.1714 - g_loss: 2.4838\n",
            "Epoch 6/20\n",
            "\u001b[1m1094/1094\u001b[0m \u001b[32m━━━━━━━━━━━━━━━━━━━━\u001b[0m\u001b[37m\u001b[0m \u001b[1m41s\u001b[0m 26ms/step - d_loss: 0.5909 - g_loss: 1.2616\n",
            "Epoch 7/20\n",
            "\u001b[1m1094/1094\u001b[0m \u001b[32m━━━━━━━━━━━━━━━━━━━━\u001b[0m\u001b[37m\u001b[0m \u001b[1m28s\u001b[0m 25ms/step - d_loss: 0.6470 - g_loss: 0.9631\n",
            "Epoch 8/20\n",
            "\u001b[1m1094/1094\u001b[0m \u001b[32m━━━━━━━━━━━━━━━━━━━━\u001b[0m\u001b[37m\u001b[0m \u001b[1m28s\u001b[0m 25ms/step - d_loss: 0.6751 - g_loss: 0.8682\n",
            "Epoch 9/20\n",
            "\u001b[1m1094/1094\u001b[0m \u001b[32m━━━━━━━━━━━━━━━━━━━━\u001b[0m\u001b[37m\u001b[0m \u001b[1m42s\u001b[0m 26ms/step - d_loss: 0.6759 - g_loss: 0.8172\n",
            "Epoch 10/20\n",
            "\u001b[1m1094/1094\u001b[0m \u001b[32m━━━━━━━━━━━━━━━━━━━━\u001b[0m\u001b[37m\u001b[0m \u001b[1m28s\u001b[0m 26ms/step - d_loss: 0.6873 - g_loss: 0.7632\n",
            "Epoch 11/20\n",
            "\u001b[1m1094/1094\u001b[0m \u001b[32m━━━━━━━━━━━━━━━━━━━━\u001b[0m\u001b[37m\u001b[0m \u001b[1m28s\u001b[0m 25ms/step - d_loss: 0.6892 - g_loss: 0.7569\n",
            "Epoch 12/20\n",
            "\u001b[1m1094/1094\u001b[0m \u001b[32m━━━━━━━━━━━━━━━━━━━━\u001b[0m\u001b[37m\u001b[0m \u001b[1m28s\u001b[0m 25ms/step - d_loss: 0.6928 - g_loss: 0.7430\n",
            "Epoch 13/20\n",
            "\u001b[1m1094/1094\u001b[0m \u001b[32m━━━━━━━━━━━━━━━━━━━━\u001b[0m\u001b[37m\u001b[0m \u001b[1m41s\u001b[0m 26ms/step - d_loss: 0.6951 - g_loss: 0.7277\n",
            "Epoch 14/20\n",
            "\u001b[1m1094/1094\u001b[0m \u001b[32m━━━━━━━━━━━━━━━━━━━━\u001b[0m\u001b[37m\u001b[0m \u001b[1m28s\u001b[0m 26ms/step - d_loss: 0.6841 - g_loss: 0.7505\n",
            "Epoch 15/20\n",
            "\u001b[1m1094/1094\u001b[0m \u001b[32m━━━━━━━━━━━━━━━━━━━━\u001b[0m\u001b[37m\u001b[0m \u001b[1m41s\u001b[0m 25ms/step - d_loss: 0.6890 - g_loss: 0.7303\n",
            "Epoch 16/20\n",
            "\u001b[1m1094/1094\u001b[0m \u001b[32m━━━━━━━━━━━━━━━━━━━━\u001b[0m\u001b[37m\u001b[0m \u001b[1m42s\u001b[0m 26ms/step - d_loss: 0.6880 - g_loss: 0.7452\n",
            "Epoch 17/20\n",
            "\u001b[1m1094/1094\u001b[0m \u001b[32m━━━━━━━━━━━━━━━━━━━━\u001b[0m\u001b[37m\u001b[0m \u001b[1m40s\u001b[0m 25ms/step - d_loss: 0.6790 - g_loss: 0.7470\n",
            "Epoch 18/20\n",
            "\u001b[1m1094/1094\u001b[0m \u001b[32m━━━━━━━━━━━━━━━━━━━━\u001b[0m\u001b[37m\u001b[0m \u001b[1m28s\u001b[0m 26ms/step - d_loss: 0.6749 - g_loss: 0.7574\n",
            "Epoch 19/20\n",
            "\u001b[1m1094/1094\u001b[0m \u001b[32m━━━━━━━━━━━━━━━━━━━━\u001b[0m\u001b[37m\u001b[0m \u001b[1m28s\u001b[0m 25ms/step - d_loss: 0.6820 - g_loss: 0.7446\n",
            "Epoch 20/20\n",
            "\u001b[1m1094/1094\u001b[0m \u001b[32m━━━━━━━━━━━━━━━━━━━━\u001b[0m\u001b[37m\u001b[0m \u001b[1m28s\u001b[0m 25ms/step - d_loss: 0.6721 - g_loss: 0.7555\n"
          ]
        },
        {
          "output_type": "execute_result",
          "data": {
            "text/plain": [
              "<keras.src.callbacks.history.History at 0x788a04fc3390>"
            ]
          },
          "metadata": {},
          "execution_count": 8
        }
      ]
    },
    {
      "cell_type": "code",
      "source": [
        "interpolation_noise = keras.random.normal(shape=(1, 8))\n",
        "interpolation_noise = ops.repeat(interpolation_noise, repeats=6)"
      ],
      "metadata": {
        "id": "sHryr2IZ9fvM"
      },
      "execution_count": 6,
      "outputs": []
    },
    {
      "cell_type": "code",
      "source": [
        "interpolation_noise"
      ],
      "metadata": {
        "colab": {
          "base_uri": "https://localhost:8080/"
        },
        "id": "xr2Dxx0h9nk9",
        "outputId": "0047ab5b-8aa7-4e4e-b61f-e4a7e22a3b03"
      },
      "execution_count": 7,
      "outputs": [
        {
          "output_type": "execute_result",
          "data": {
            "text/plain": [
              "<tf.Tensor: shape=(48,), dtype=float32, numpy=\n",
              "array([ 0.00776863,  0.00776863,  0.00776863,  0.00776863,  0.00776863,\n",
              "        0.00776863,  0.7953589 ,  0.7953589 ,  0.7953589 ,  0.7953589 ,\n",
              "        0.7953589 ,  0.7953589 , -1.4645193 , -1.4645193 , -1.4645193 ,\n",
              "       -1.4645193 , -1.4645193 , -1.4645193 , -0.42894912, -0.42894912,\n",
              "       -0.42894912, -0.42894912, -0.42894912, -0.42894912,  0.31918424,\n",
              "        0.31918424,  0.31918424,  0.31918424,  0.31918424,  0.31918424,\n",
              "        1.3588815 ,  1.3588815 ,  1.3588815 ,  1.3588815 ,  1.3588815 ,\n",
              "        1.3588815 ,  0.04990932,  0.04990932,  0.04990932,  0.04990932,\n",
              "        0.04990932,  0.04990932, -0.35721895, -0.35721895, -0.35721895,\n",
              "       -0.35721895, -0.35721895, -0.35721895], dtype=float32)>"
            ]
          },
          "metadata": {},
          "execution_count": 7
        }
      ]
    },
    {
      "cell_type": "code",
      "source": [
        "# 这段代码的目的是通过 条件生成对抗网络（Conditional GAN） 实现类间插值，生成\n",
        "# 从一个类别到另一个类别的平滑过渡图像。它通过对类标签进行插值，并结合噪声向量，\n",
        "# 生成过渡图像。\n",
        "trained_gen = cond_gan.generator # 获取训练好的生成器\n",
        "\n",
        "# num_interpolation 表示在两个类别的开始图像（first_number）和结束图像（s\n",
        "# econd_number）之间生成的插值图像数量。总图像数为 num_interpolation + 2，\n",
        "# 因为除了插值的图像外，还包括了起始图像和结束图像。\n",
        "num_interpolation = 9\n",
        "\n",
        "# interpolation_noise 是一个包含随机噪声的张量，用于生成插值图像。\n",
        "# 首先生成一个形状为 (1, latent_dim) 的噪声向量，这个噪声向量是从标准正态分布\n",
        "# 中随机采样的。latent_dim 是潜在空间的维度（也就是生成器输入噪声的维度）。\n",
        "interpolation_noise = keras.random.normal(shape=(1, latent_dim))\n",
        "# 然后使用 ops.repeat 将这个噪声向量复制 num_interpolation 次，得到一个形状为 (\n",
        "#     num_interpolation, latent_dim) 的噪声矩阵。\n",
        "interpolation_noise = ops.repeat(interpolation_noise, repeats=num_interpolation)\n",
        "interpolation_noise = ops.reshape(interpolation_noise, (num_interpolation, latent_dim))\n",
        "\n",
        "# interpolate_class 函数的目的是进行两个类别之间的标签插值。\n",
        "# first_number 和 second_number 是表示类别的整数（例如：2 和 6）。这两个数字将被转换为 one-hot 编码 格式。\n",
        "# 使用 keras.utils.to_categorical 将这两个类别数字转换为 one-hot 编码向量。num_classes 是类别总数（\n",
        "# 例如，对于 MNIST，是 10 类）。\n",
        "# ops.cast 将 one-hot 编码的标签转换为 float32 类型，确保数据类型一致。\n",
        "def interpolate_class(first_number, second_number):\n",
        "    # Convert the start and end labels to one-hot encoded vectors.\n",
        "    first_label = keras.utils.to_categorical([first_number], num_classes)\n",
        "    second_label = keras.utils.to_categorical([second_number], num_classes)\n",
        "    first_label = ops.cast(first_label, \"float32\")\n",
        "    second_label = ops.cast(second_label, \"float32\")\n",
        "\n",
        "    # percent_second_label 是一个插值向量，它在 [0, 1] 范围内等间隔地生成\n",
        "    percent_second_label = ops.linspace(0, 1, num_interpolation)[:, None]\n",
        "    percent_second_label = ops.cast(percent_second_label, \"float32\")\n",
        "    interpolation_labels = (\n",
        "        first_label * (1 - percent_second_label) + second_label * percent_second_label\n",
        "    )\n",
        "\n",
        "    # Combine the noise and the labels and run inference with the generator.\n",
        "    noise_and_labels = ops.concatenate([interpolation_noise, interpolation_labels], 1)\n",
        "    fake = trained_gen.predict(noise_and_labels)\n",
        "    return fake\n",
        "\n",
        "# start_class 和 end_class 分别表示插值的起始和结束类别。在这个例子中，start_class 是 2，\n",
        "# end_class 是 6。\n",
        "start_class = 0\n",
        "end_class = 6\n",
        "# 调用 interpolate_class 函数，生成从 start_class 到 end_class 之间的平滑过渡图像，并将结果存储在 fake_images 中。\n",
        "fake_images = interpolate_class(start_class, end_class)"
      ],
      "metadata": {
        "colab": {
          "base_uri": "https://localhost:8080/"
        },
        "id": "WB8y2avASqe3",
        "outputId": "4f2305e2-9211-44a5-9dbf-64dba109ee60"
      },
      "execution_count": 9,
      "outputs": [
        {
          "output_type": "stream",
          "name": "stdout",
          "text": [
            "\u001b[1m1/1\u001b[0m \u001b[32m━━━━━━━━━━━━━━━━━━━━\u001b[0m\u001b[37m\u001b[0m \u001b[1m1s\u001b[0m 663ms/step\n"
          ]
        }
      ]
    },
    {
      "cell_type": "code",
      "source": [],
      "metadata": {
        "id": "X5Br6e0Y_NbR"
      },
      "execution_count": null,
      "outputs": []
    },
    {
      "cell_type": "code",
      "source": [
        "fake_images *= 255.0\n",
        "converted_images = fake_images.astype(np.uint8)\n",
        "converted_images = ops.image.resize(converted_images, (96, 96)).numpy().astype(np.uint8)\n",
        "imageio.mimsave(\"animation.gif\", converted_images[:, :, :, 0], fps=1)\n",
        "embed.embed_file(\"animation.gif\")"
      ],
      "metadata": {
        "id": "oynVsBetSwMA"
      },
      "execution_count": null,
      "outputs": []
    },
    {
      "cell_type": "code",
      "source": [],
      "metadata": {
        "id": "vcM5UQ7RUVum"
      },
      "execution_count": null,
      "outputs": []
    }
  ]
}